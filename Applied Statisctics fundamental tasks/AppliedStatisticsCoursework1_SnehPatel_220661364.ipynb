{
 "cells": [
  {
   "cell_type": "markdown",
   "id": "6d471ae7-1db5-4f8f-ac90-911faaa97a5b",
   "metadata": {},
   "source": [
    "Question 1"
   ]
  },
  {
   "cell_type": "code",
   "execution_count": 1,
   "id": "08fdff15-1198-4497-ab3a-36870cc8245d",
   "metadata": {},
   "outputs": [],
   "source": [
    "import numpy as np\n",
    "import pandas as pd\n",
    "import matplotlib.pyplot as plt"
   ]
  },
  {
   "cell_type": "code",
   "execution_count": 2,
   "id": "67e92c50-c37f-4508-84ed-7ed088094c11",
   "metadata": {},
   "outputs": [
    {
     "data": {
      "text/html": [
       "<div>\n",
       "<style scoped>\n",
       "    .dataframe tbody tr th:only-of-type {\n",
       "        vertical-align: middle;\n",
       "    }\n",
       "\n",
       "    .dataframe tbody tr th {\n",
       "        vertical-align: top;\n",
       "    }\n",
       "\n",
       "    .dataframe thead th {\n",
       "        text-align: right;\n",
       "    }\n",
       "</style>\n",
       "<table border=\"1\" class=\"dataframe\">\n",
       "  <thead>\n",
       "    <tr style=\"text-align: right;\">\n",
       "      <th></th>\n",
       "      <th>T03</th>\n",
       "      <th>Population growth and indicators of fertility and mortality</th>\n",
       "      <th>Unnamed: 2</th>\n",
       "      <th>Unnamed: 3</th>\n",
       "      <th>Unnamed: 4</th>\n",
       "      <th>Unnamed: 5</th>\n",
       "      <th>Unnamed: 6</th>\n",
       "    </tr>\n",
       "  </thead>\n",
       "  <tbody>\n",
       "    <tr>\n",
       "      <th>0</th>\n",
       "      <td>Region/Country/Area</td>\n",
       "      <td>NaN</td>\n",
       "      <td>Year</td>\n",
       "      <td>Series</td>\n",
       "      <td>Value</td>\n",
       "      <td>Footnotes</td>\n",
       "      <td>Source</td>\n",
       "    </tr>\n",
       "    <tr>\n",
       "      <th>1</th>\n",
       "      <td>1</td>\n",
       "      <td>Total, all countries or areas</td>\n",
       "      <td>2010</td>\n",
       "      <td>Population annual rate of increase (percent)</td>\n",
       "      <td>1.2</td>\n",
       "      <td>Data refers to a 5-year period preceding the r...</td>\n",
       "      <td>United Nations Population Division, New York, ...</td>\n",
       "    </tr>\n",
       "    <tr>\n",
       "      <th>2</th>\n",
       "      <td>1</td>\n",
       "      <td>Total, all countries or areas</td>\n",
       "      <td>2010</td>\n",
       "      <td>Total fertility rate (children per women)</td>\n",
       "      <td>2.6</td>\n",
       "      <td>Data refers to a 5-year period preceding the r...</td>\n",
       "      <td>United Nations Population Division, New York, ...</td>\n",
       "    </tr>\n",
       "    <tr>\n",
       "      <th>3</th>\n",
       "      <td>1</td>\n",
       "      <td>Total, all countries or areas</td>\n",
       "      <td>2010</td>\n",
       "      <td>Infant mortality for both sexes (per 1,000 liv...</td>\n",
       "      <td>41.0</td>\n",
       "      <td>Data refers to a 5-year period preceding the r...</td>\n",
       "      <td>United Nations Statistics Division, New York, ...</td>\n",
       "    </tr>\n",
       "    <tr>\n",
       "      <th>4</th>\n",
       "      <td>1</td>\n",
       "      <td>Total, all countries or areas</td>\n",
       "      <td>2010</td>\n",
       "      <td>Maternal mortality ratio (deaths per 100,000 p...</td>\n",
       "      <td>248</td>\n",
       "      <td>NaN</td>\n",
       "      <td>World Health Organization (WHO), the United Na...</td>\n",
       "    </tr>\n",
       "    <tr>\n",
       "      <th>...</th>\n",
       "      <td>...</td>\n",
       "      <td>...</td>\n",
       "      <td>...</td>\n",
       "      <td>...</td>\n",
       "      <td>...</td>\n",
       "      <td>...</td>\n",
       "      <td>...</td>\n",
       "    </tr>\n",
       "    <tr>\n",
       "      <th>4895</th>\n",
       "      <td>716</td>\n",
       "      <td>Zimbabwe</td>\n",
       "      <td>2020</td>\n",
       "      <td>Total fertility rate (children per women)</td>\n",
       "      <td>3.6</td>\n",
       "      <td>Data refers to a 5-year period preceding the r...</td>\n",
       "      <td>United Nations Population Division, New York, ...</td>\n",
       "    </tr>\n",
       "    <tr>\n",
       "      <th>4896</th>\n",
       "      <td>716</td>\n",
       "      <td>Zimbabwe</td>\n",
       "      <td>2020</td>\n",
       "      <td>Infant mortality for both sexes (per 1,000 liv...</td>\n",
       "      <td>38.7</td>\n",
       "      <td>Data refers to a 5-year period preceding the r...</td>\n",
       "      <td>United Nations Statistics Division, New York, ...</td>\n",
       "    </tr>\n",
       "    <tr>\n",
       "      <th>4897</th>\n",
       "      <td>716</td>\n",
       "      <td>Zimbabwe</td>\n",
       "      <td>2020</td>\n",
       "      <td>Life expectancy at birth for both sexes (years)</td>\n",
       "      <td>60.8</td>\n",
       "      <td>Data refers to a 5-year period preceding the r...</td>\n",
       "      <td>United Nations Population Division, New York, ...</td>\n",
       "    </tr>\n",
       "    <tr>\n",
       "      <th>4898</th>\n",
       "      <td>716</td>\n",
       "      <td>Zimbabwe</td>\n",
       "      <td>2020</td>\n",
       "      <td>Life expectancy at birth for males (years)</td>\n",
       "      <td>59.2</td>\n",
       "      <td>Data refers to a 5-year period preceding the r...</td>\n",
       "      <td>United Nations Population Division, New York, ...</td>\n",
       "    </tr>\n",
       "    <tr>\n",
       "      <th>4899</th>\n",
       "      <td>716</td>\n",
       "      <td>Zimbabwe</td>\n",
       "      <td>2020</td>\n",
       "      <td>Life expectancy at birth for females (years)</td>\n",
       "      <td>62.2</td>\n",
       "      <td>Data refers to a 5-year period preceding the r...</td>\n",
       "      <td>United Nations Population Division, New York, ...</td>\n",
       "    </tr>\n",
       "  </tbody>\n",
       "</table>\n",
       "<p>4900 rows × 7 columns</p>\n",
       "</div>"
      ],
      "text/plain": [
       "                      T03  \\\n",
       "0     Region/Country/Area   \n",
       "1                       1   \n",
       "2                       1   \n",
       "3                       1   \n",
       "4                       1   \n",
       "...                   ...   \n",
       "4895                  716   \n",
       "4896                  716   \n",
       "4897                  716   \n",
       "4898                  716   \n",
       "4899                  716   \n",
       "\n",
       "     Population growth and indicators of fertility and mortality Unnamed: 2  \\\n",
       "0                                                   NaN                Year   \n",
       "1                         Total, all countries or areas                2010   \n",
       "2                         Total, all countries or areas                2010   \n",
       "3                         Total, all countries or areas                2010   \n",
       "4                         Total, all countries or areas                2010   \n",
       "...                                                 ...                 ...   \n",
       "4895                                           Zimbabwe                2020   \n",
       "4896                                           Zimbabwe                2020   \n",
       "4897                                           Zimbabwe                2020   \n",
       "4898                                           Zimbabwe                2020   \n",
       "4899                                           Zimbabwe                2020   \n",
       "\n",
       "                                             Unnamed: 3 Unnamed: 4  \\\n",
       "0                                                Series      Value   \n",
       "1          Population annual rate of increase (percent)        1.2   \n",
       "2             Total fertility rate (children per women)        2.6   \n",
       "3     Infant mortality for both sexes (per 1,000 liv...       41.0   \n",
       "4     Maternal mortality ratio (deaths per 100,000 p...        248   \n",
       "...                                                 ...        ...   \n",
       "4895          Total fertility rate (children per women)        3.6   \n",
       "4896  Infant mortality for both sexes (per 1,000 liv...       38.7   \n",
       "4897    Life expectancy at birth for both sexes (years)       60.8   \n",
       "4898         Life expectancy at birth for males (years)       59.2   \n",
       "4899       Life expectancy at birth for females (years)       62.2   \n",
       "\n",
       "                                             Unnamed: 5  \\\n",
       "0                                             Footnotes   \n",
       "1     Data refers to a 5-year period preceding the r...   \n",
       "2     Data refers to a 5-year period preceding the r...   \n",
       "3     Data refers to a 5-year period preceding the r...   \n",
       "4                                                   NaN   \n",
       "...                                                 ...   \n",
       "4895  Data refers to a 5-year period preceding the r...   \n",
       "4896  Data refers to a 5-year period preceding the r...   \n",
       "4897  Data refers to a 5-year period preceding the r...   \n",
       "4898  Data refers to a 5-year period preceding the r...   \n",
       "4899  Data refers to a 5-year period preceding the r...   \n",
       "\n",
       "                                             Unnamed: 6  \n",
       "0                                                Source  \n",
       "1     United Nations Population Division, New York, ...  \n",
       "2     United Nations Population Division, New York, ...  \n",
       "3     United Nations Statistics Division, New York, ...  \n",
       "4     World Health Organization (WHO), the United Na...  \n",
       "...                                                 ...  \n",
       "4895  United Nations Population Division, New York, ...  \n",
       "4896  United Nations Statistics Division, New York, ...  \n",
       "4897  United Nations Population Division, New York, ...  \n",
       "4898  United Nations Population Division, New York, ...  \n",
       "4899  United Nations Population Division, New York, ...  \n",
       "\n",
       "[4900 rows x 7 columns]"
      ]
     },
     "execution_count": 2,
     "metadata": {},
     "output_type": "execute_result"
    }
   ],
   "source": [
    "#Importing the UN’s Population Growth, Fertility and Mortality Indicators\n",
    "data = pd.read_csv('./SYB64_246_202110_Population Growth, Fertility and Mortality Indicators.csv',encoding='ISO-8859-1')\n",
    "data"
   ]
  },
  {
   "cell_type": "markdown",
   "id": "2663a5de-c0ca-4848-b8d0-d45766473a8a",
   "metadata": {},
   "source": [
    "Question 2"
   ]
  },
  {
   "cell_type": "code",
   "execution_count": 3,
   "id": "060a01ea-1f49-4817-a9f5-0caf17212b93",
   "metadata": {},
   "outputs": [],
   "source": [
    "data_copy = data.copy();\n",
    "data_copy.columns = data_copy.iloc[0]\n",
    "data_copy = data_copy.drop(labels=0,axis=0)"
   ]
  },
  {
   "cell_type": "code",
   "execution_count": 4,
   "id": "70eea312-9c0b-43f5-a57a-d8378c67bdd0",
   "metadata": {},
   "outputs": [],
   "source": [
    "#Selecting the life expectancy data for both sexes series for countries in the year 2010\n",
    "data_required = data_copy.iloc[624:]"
   ]
  },
  {
   "cell_type": "code",
   "execution_count": 5,
   "id": "9dfd1a01-bb9a-4d11-984c-3a8e81f4b81a",
   "metadata": {},
   "outputs": [],
   "source": [
    "data_life_exp = data_required.loc[data_required['Series'] == 'Life expectancy at birth for both sexes (years)']\n",
    "data_life_exp_year = data_life_exp.loc[data_life_exp['Year'] == '2010']\n",
    "data_life_exp_values =data_life_exp_year['Value'].to_numpy().astype('float')\n"
   ]
  },
  {
   "cell_type": "code",
   "execution_count": 6,
   "id": "112dd66b-efaa-457e-9217-d2ecaca2d27e",
   "metadata": {},
   "outputs": [
    {
     "name": "stdout",
     "output_type": "stream",
     "text": [
      "Length of data = 201\n"
     ]
    }
   ],
   "source": [
    "#Size of the dataset\n",
    "print(f'Length of data = {data_life_exp_values.shape[0]}')"
   ]
  },
  {
   "cell_type": "markdown",
   "id": "caeb8b37-854b-4603-91aa-7802167dc3c1",
   "metadata": {},
   "source": [
    "Question 3"
   ]
  },
  {
   "cell_type": "code",
   "execution_count": 7,
   "id": "596212eb-a579-4053-95b1-05b060534d06",
   "metadata": {},
   "outputs": [
    {
     "data": {
      "text/plain": [
       "69.49104477611941"
      ]
     },
     "execution_count": 7,
     "metadata": {},
     "output_type": "execute_result"
    }
   ],
   "source": [
    "#MEAN of the data_life_exp_values\n",
    "#There has been ups and downs from region and country wise data for the life expectancy of given years in data . But here we can see for the particular year 2010, average life expectancy for both the sexes is 69. This value is mean for the data_life_exp_values which is 69.49. It indicates that the average distribution of life expectancy for both sexes at 2010.\n",
    "np.mean(data_life_exp_values)"
   ]
  },
  {
   "cell_type": "code",
   "execution_count": 8,
   "id": "619d3d5f-e56f-4253-a6aa-2e9290a13f44",
   "metadata": {},
   "outputs": [
    {
     "data": {
      "text/plain": [
       "72.5"
      ]
     },
     "execution_count": 8,
     "metadata": {},
     "output_type": "execute_result"
    }
   ],
   "source": [
    "#MEDIAN of the data_life_exp_values\n",
    "#The value of median shows that the middle value, here which is the age which is 72.5 \n",
    "#We found the value of mean to be 69.49, but there are other ways to find the most optimal number for life expectancy for both sexes in 2010. By using median, which separates higher half from lower half of given data. Here, median for the data_life_exp_values is 72.5, that indicates it is centered value in data and distribution of data is around the value of 72.5, making it central tendency of measure as the histogram suggests the data as skewed.\n",
    "np.median(data_life_exp_values)"
   ]
  },
  {
   "cell_type": "code",
   "execution_count": 9,
   "id": "0fd9bc62-ed36-422b-8e50-880a79588d9d",
   "metadata": {},
   "outputs": [
    {
     "data": {
      "image/png": "[encoded data removed]",
      "text/plain": [
       "<Figure size 640x480 with 1 Axes>"
      ]
     },
     "metadata": {},
     "output_type": "display_data"
    }
   ],
   "source": [
    "#HISTOGRAM OF THE LIFE EXPECTANCY IN THE YEAR 2010\n",
    "plt.title('LIFE EXPECTANCY IN 2010')\n",
    "plt.axvline(x=np.mean(data_life_exp_values), color='magenta', label='MEAN')\n",
    "plt.axvline(x=np.median(data_life_exp_values), color='gold', label='MEDIAN')\n",
    "plt.hist(data_life_exp_values)\n",
    "plt.legend()\n",
    "plt.show()"
   ]
  },
  {
   "cell_type": "markdown",
   "id": "baf561a6-578e-48a2-a00b-b3328409ed65",
   "metadata": {},
   "source": [
    "Question 4 & 5"
   ]
  },
  {
   "cell_type": "code",
   "execution_count": 10,
   "id": "55ca966e-fd5f-4f54-bac5-d753fb277537",
   "metadata": {},
   "outputs": [
    {
     "name": "stdout",
     "output_type": "stream",
     "text": [
      "11.599999999999994\n"
     ]
    }
   ],
   "source": [
    "#INTER QUARTILE RANGE\n",
    "print(np.subtract(*np.percentile(data_life_exp_values,[75,25])))"
   ]
  },
  {
   "cell_type": "code",
   "execution_count": 11,
   "id": "2972b372-fb4f-499c-9a04-15c3b5f8be08",
   "metadata": {},
   "outputs": [
    {
     "data": {
      "text/plain": [
       "9.358286795362906"
      ]
     },
     "execution_count": 11,
     "metadata": {},
     "output_type": "execute_result"
    }
   ],
   "source": [
    "#STANDARD DEVIATION OF DATASET\n",
    "np.std(data_life_exp_values)"
   ]
  },
  {
   "cell_type": "code",
   "execution_count": 12,
   "id": "5f7d4e94-c3ed-4bf0-8f98-6a97db0a4a67",
   "metadata": {},
   "outputs": [
    {
     "data": {
      "image/png": "[encoded data removed]",
      "text/plain": [
       "<Figure size 640x480 with 1 Axes>"
      ]
     },
     "metadata": {},
     "output_type": "display_data"
    }
   ],
   "source": [
    "#Histogram plotting the life expectancy rate in the year 2010 with first quartile,third quartile,mean+standard_deviation and mean-standard_deviation\n",
    "plt.title('LIFE EXPECTANCY INTER QUARTILE YEAR 2010')\n",
    "\n",
    "plt.axvline(x=np.percentile(data_life_exp_values,25), color='coral', label='First Quartile')\n",
    "plt.axvline(x=np.percentile(data_life_exp_values,75), color='green', label='Third Quartile')\n",
    "\n",
    "plt.axvline(x=np.mean(data_life_exp_values) + np.std(data_life_exp_values) , color='indigo', label='MEAN+STD')\n",
    "plt.axvline(x=np.mean(data_life_exp_values) - np.std(data_life_exp_values), color='gold', label='MEAN-STD')\n",
    "\n",
    "plt.hist(data_life_exp_values,alpha=0.8,color='lightblue', edgecolor='black')\n",
    "plt.legend()\n",
    "plt.show()"
   ]
  },
  {
   "cell_type": "code",
   "execution_count": 13,
   "id": "42592db2-ad11-4f8f-81b3-def7648bd231",
   "metadata": {},
   "outputs": [
    {
     "name": "stdout",
     "output_type": "stream",
     "text": [
      "64.5\n",
      "76.1\n"
     ]
    }
   ],
   "source": [
    "#First and Third Quartile\n",
    "\n",
    "life_exp_first_quartile=np.percentile(data_life_exp_values,25)\n",
    "print(life_exp_first_quartile)\n",
    "\n",
    "life_exp_third_quartile=np.percentile(data_life_exp_values,75)\n",
    "print(life_exp_third_quartile)"
   ]
  },
  {
   "cell_type": "code",
   "execution_count": 14,
   "id": "5454e7d6-a329-4b01-a918-55ba7867bf8d",
   "metadata": {},
   "outputs": [
    {
     "data": {
      "image/png": "[encoded data removed]",
      "text/plain": [
       "<Figure size 640x480 with 1 Axes>"
      ]
     },
     "metadata": {},
     "output_type": "display_data"
    }
   ],
   "source": [
    "from scipy.stats import skewnorm\n",
    "from scipy import stats\n",
    "\n",
    "fig, ax = plt.subplots(1, 1)\n",
    "x = data_life_exp_values\n",
    "a,loc,scale = skewnorm.fit(x)\n",
    "r1 = skewnorm.rvs(a,loc,scale,size=1000)\n",
    "pdf = skewnorm.pdf(np.sort(r1),a,loc,scale)\n",
    "\n",
    "plt.axvline(x=np.percentile(r1,25),color='red', label = '1st Quartile')\n",
    "plt.axvline(x=np.percentile(r1,50),color='black', label = '2nd Quartile')\n",
    "plt.axvline(x=np.percentile(r1,75),color='violet', label = '3rd Quartile')\n",
    "plt.axvline(x=r1.mean(),color='teal', label = 'Mean')\n",
    "\n",
    "\n",
    "plt.title('SKEWED DISTRIBUTION')\n",
    "\n",
    "ax.plot(np.sort(r1), pdf, lw=2, label='pdf')\n",
    "ax.hist(r1, density=True, histtype='stepfilled', alpha=0.3, color='yellow')\n",
    "\n",
    "plt.legend()\n",
    "plt.show()"
   ]
  },
  {
   "cell_type": "code",
   "execution_count": 15,
   "id": "af6dd619-a79e-480e-a8dd-5811772659d2",
   "metadata": {},
   "outputs": [
    {
     "name": "stdout",
     "output_type": "stream",
     "text": [
      "Mean of distribution:  69.21613256243572\n",
      "Median of distribution:  70.82096946702785\n",
      "Range:  49.215577380207215\n",
      "IQR:  12.57152243244743\n",
      "Standard Deviation:  9.138165113930013\n"
     ]
    }
   ],
   "source": [
    "#By ploting we get skewed distribution which is left skewed. So, we can call it left skewed or negatively skewed distribution. Here we can see from the above histogram that mean and median value is quite close so choosing any value will not effect much on model but median will be better option according to the theories. We are taking mean as reference and that suggests that life expectancy rate of the majority of the people from the distribution is above mean 69. So, majority of the people will have age group above 69. So, this kind of distribution is suitable for our model life expectancy.\n",
    "print('Mean of distribution: ', np.mean(r1))\n",
    "print('Median of distribution: ', np.median(r1))\n",
    "\n",
    "range = r1.max()-r1.min()\n",
    "\n",
    "print('Range: ',range)\n",
    "print('IQR: ',np.subtract(*np.percentile(r1, [75, 25])))\n",
    "print('Standard Deviation: ',r1.std())"
   ]
  }
 ],
 "metadata": {
  "kernelspec": {
   "display_name": "Python 3 (ipykernel)",
   "language": "python",
   "name": "python3"
  },
  "language_info": {
   "codemirror_mode": {
    "name": "ipython",
    "version": 3
   },
   "file_extension": ".py",
   "mimetype": "text/x-python",
   "name": "python",
   "nbconvert_exporter": "python",
   "pygments_lexer": "ipython3",
   "version": "3.10.6"
  }
 },
 "nbformat": 4,
 "nbformat_minor": 5
}
